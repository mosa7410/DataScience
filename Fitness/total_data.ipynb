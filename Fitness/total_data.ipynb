{
 "cells": [
  {
   "cell_type": "code",
   "execution_count": 1,
   "metadata": {},
   "outputs": [],
   "source": [
    "import numpy as np\n",
    "import pandas as pd\n",
    "import matplotlib.pyplot as plt\n",
    "from datetime import datetime\n",
    "import seaborn as sns"
   ]
  },
  {
   "cell_type": "code",
   "execution_count": 2,
   "metadata": {},
   "outputs": [
    {
     "data": {
      "text/html": [
       "<div>\n",
       "<style scoped>\n",
       "    .dataframe tbody tr th:only-of-type {\n",
       "        vertical-align: middle;\n",
       "    }\n",
       "\n",
       "    .dataframe tbody tr th {\n",
       "        vertical-align: top;\n",
       "    }\n",
       "\n",
       "    .dataframe thead th {\n",
       "        text-align: right;\n",
       "    }\n",
       "</style>\n",
       "<table border=\"1\" class=\"dataframe\">\n",
       "  <thead>\n",
       "    <tr style=\"text-align: right;\">\n",
       "      <th></th>\n",
       "      <th>user</th>\n",
       "      <th>date</th>\n",
       "      <th>time</th>\n",
       "      <th>heartrate</th>\n",
       "    </tr>\n",
       "  </thead>\n",
       "  <tbody>\n",
       "    <tr>\n",
       "      <th>0</th>\n",
       "      <td>A010</td>\n",
       "      <td>2016-04-01</td>\n",
       "      <td>00:00:00</td>\n",
       "      <td>78.0</td>\n",
       "    </tr>\n",
       "    <tr>\n",
       "      <th>1</th>\n",
       "      <td>A010</td>\n",
       "      <td>2016-04-01</td>\n",
       "      <td>00:01:00</td>\n",
       "      <td>78.0</td>\n",
       "    </tr>\n",
       "    <tr>\n",
       "      <th>2</th>\n",
       "      <td>A010</td>\n",
       "      <td>2016-04-01</td>\n",
       "      <td>00:02:00</td>\n",
       "      <td>78.0</td>\n",
       "    </tr>\n",
       "  </tbody>\n",
       "</table>\n",
       "</div>"
      ],
      "text/plain": [
       "   user        date      time  heartrate\n",
       "0  A010  2016-04-01  00:00:00       78.0\n",
       "1  A010  2016-04-01  00:01:00       78.0\n",
       "2  A010  2016-04-01  00:02:00       78.0"
      ]
     },
     "execution_count": 2,
     "metadata": {},
     "output_type": "execute_result"
    }
   ],
   "source": [
    "heart = pd.read_csv('./data/heart.csv', names = ['user','date','time', 'heartrate'])\n",
    "heart.head(3)"
   ]
  },
  {
   "cell_type": "code",
   "execution_count": 3,
   "metadata": {},
   "outputs": [
    {
     "data": {
      "text/html": [
       "<div>\n",
       "<style scoped>\n",
       "    .dataframe tbody tr th:only-of-type {\n",
       "        vertical-align: middle;\n",
       "    }\n",
       "\n",
       "    .dataframe tbody tr th {\n",
       "        vertical-align: top;\n",
       "    }\n",
       "\n",
       "    .dataframe thead th {\n",
       "        text-align: right;\n",
       "    }\n",
       "</style>\n",
       "<table border=\"1\" class=\"dataframe\">\n",
       "  <thead>\n",
       "    <tr style=\"text-align: right;\">\n",
       "      <th></th>\n",
       "      <th>user</th>\n",
       "      <th>date</th>\n",
       "      <th>startTime</th>\n",
       "      <th>minutesAsleep</th>\n",
       "      <th>minutesAwake</th>\n",
       "      <th>timeInbed</th>\n",
       "    </tr>\n",
       "  </thead>\n",
       "  <tbody>\n",
       "    <tr>\n",
       "      <th>0</th>\n",
       "      <td>A010</td>\n",
       "      <td>2016-04-01</td>\n",
       "      <td>00:31:00.000</td>\n",
       "      <td>470.0</td>\n",
       "      <td>26.0</td>\n",
       "      <td>496.0</td>\n",
       "    </tr>\n",
       "    <tr>\n",
       "      <th>1</th>\n",
       "      <td>A010</td>\n",
       "      <td>2016-04-02</td>\n",
       "      <td>02:32:00.000</td>\n",
       "      <td>475.0</td>\n",
       "      <td>18.0</td>\n",
       "      <td>493.0</td>\n",
       "    </tr>\n",
       "    <tr>\n",
       "      <th>2</th>\n",
       "      <td>A010</td>\n",
       "      <td>2016-04-05</td>\n",
       "      <td>03:14:00.000</td>\n",
       "      <td>239.0</td>\n",
       "      <td>2.0</td>\n",
       "      <td>241.0</td>\n",
       "    </tr>\n",
       "  </tbody>\n",
       "</table>\n",
       "</div>"
      ],
      "text/plain": [
       "   user        date     startTime  minutesAsleep  minutesAwake  timeInbed\n",
       "0  A010  2016-04-01  00:31:00.000          470.0          26.0      496.0\n",
       "1  A010  2016-04-02  02:32:00.000          475.0          18.0      493.0\n",
       "2  A010  2016-04-05  03:14:00.000          239.0           2.0      241.0"
      ]
     },
     "execution_count": 3,
     "metadata": {},
     "output_type": "execute_result"
    }
   ],
   "source": [
    "sleep = pd.read_csv('./data/sleep.csv', names = ['user', 'date', 'startTime', 'minutesAsleep', 'minutesAwake', 'timeInbed'])\n",
    "sleep.head(3)"
   ]
  },
  {
   "cell_type": "code",
   "execution_count": 4,
   "metadata": {},
   "outputs": [
    {
     "data": {
      "text/html": [
       "<div>\n",
       "<style scoped>\n",
       "    .dataframe tbody tr th:only-of-type {\n",
       "        vertical-align: middle;\n",
       "    }\n",
       "\n",
       "    .dataframe tbody tr th {\n",
       "        vertical-align: top;\n",
       "    }\n",
       "\n",
       "    .dataframe thead th {\n",
       "        text-align: right;\n",
       "    }\n",
       "</style>\n",
       "<table border=\"1\" class=\"dataframe\">\n",
       "  <thead>\n",
       "    <tr style=\"text-align: right;\">\n",
       "      <th></th>\n",
       "      <th>user</th>\n",
       "      <th>date</th>\n",
       "      <th>time</th>\n",
       "      <th>hour</th>\n",
       "      <th>minute</th>\n",
       "      <th>steps</th>\n",
       "    </tr>\n",
       "  </thead>\n",
       "  <tbody>\n",
       "    <tr>\n",
       "      <th>0</th>\n",
       "      <td>A010</td>\n",
       "      <td>2016-04-01</td>\n",
       "      <td>00:00:00</td>\n",
       "      <td>0.0</td>\n",
       "      <td>0.0</td>\n",
       "      <td>0.0</td>\n",
       "    </tr>\n",
       "    <tr>\n",
       "      <th>1</th>\n",
       "      <td>A010</td>\n",
       "      <td>2016-04-01</td>\n",
       "      <td>00:01:00</td>\n",
       "      <td>0.0</td>\n",
       "      <td>1.0</td>\n",
       "      <td>0.0</td>\n",
       "    </tr>\n",
       "    <tr>\n",
       "      <th>2</th>\n",
       "      <td>A010</td>\n",
       "      <td>2016-04-01</td>\n",
       "      <td>00:02:00</td>\n",
       "      <td>0.0</td>\n",
       "      <td>2.0</td>\n",
       "      <td>0.0</td>\n",
       "    </tr>\n",
       "  </tbody>\n",
       "</table>\n",
       "</div>"
      ],
      "text/plain": [
       "   user        date      time  hour  minute  steps\n",
       "0  A010  2016-04-01  00:00:00   0.0     0.0    0.0\n",
       "1  A010  2016-04-01  00:01:00   0.0     1.0    0.0\n",
       "2  A010  2016-04-01  00:02:00   0.0     2.0    0.0"
      ]
     },
     "execution_count": 4,
     "metadata": {},
     "output_type": "execute_result"
    }
   ],
   "source": [
    "steps = pd.read_csv('./data/steps.csv', names = ['user', 'date', 'time', 'hour', 'minute', 'steps'])\n",
    "steps.head(3)"
   ]
  },
  {
   "cell_type": "code",
   "execution_count": 5,
   "metadata": {},
   "outputs": [
    {
     "data": {
      "text/html": [
       "<div>\n",
       "<style scoped>\n",
       "    .dataframe tbody tr th:only-of-type {\n",
       "        vertical-align: middle;\n",
       "    }\n",
       "\n",
       "    .dataframe tbody tr th {\n",
       "        vertical-align: top;\n",
       "    }\n",
       "\n",
       "    .dataframe thead th {\n",
       "        text-align: right;\n",
       "    }\n",
       "</style>\n",
       "<table border=\"1\" class=\"dataframe\">\n",
       "  <thead>\n",
       "    <tr style=\"text-align: right;\">\n",
       "      <th></th>\n",
       "      <th>user</th>\n",
       "      <th>date</th>\n",
       "      <th>heartrate</th>\n",
       "    </tr>\n",
       "  </thead>\n",
       "  <tbody>\n",
       "    <tr>\n",
       "      <th>0</th>\n",
       "      <td>A01</td>\n",
       "      <td>2016-04-01</td>\n",
       "      <td>84.276132</td>\n",
       "    </tr>\n",
       "    <tr>\n",
       "      <th>1</th>\n",
       "      <td>A01</td>\n",
       "      <td>2016-04-02</td>\n",
       "      <td>83.300429</td>\n",
       "    </tr>\n",
       "    <tr>\n",
       "      <th>2</th>\n",
       "      <td>A01</td>\n",
       "      <td>2016-04-03</td>\n",
       "      <td>87.374734</td>\n",
       "    </tr>\n",
       "  </tbody>\n",
       "</table>\n",
       "</div>"
      ],
      "text/plain": [
       "  user        date  heartrate\n",
       "0  A01  2016-04-01  84.276132\n",
       "1  A01  2016-04-02  83.300429\n",
       "2  A01  2016-04-03  87.374734"
      ]
     },
     "execution_count": 5,
     "metadata": {},
     "output_type": "execute_result"
    }
   ],
   "source": [
    "heart.fillna(0)\n",
    "mean_heart = heart.groupby(['user','date'])['heartrate'].mean().reset_index()\n",
    "mean_heart.head(3)"
   ]
  },
  {
   "cell_type": "code",
   "execution_count": 6,
   "metadata": {},
   "outputs": [],
   "source": [
    "mean_steps = steps.groupby(['user', 'date'])['steps'].sum().reset_index()\n",
    "steps = mean_steps['steps'].div(2)\n",
    "mean_steps['steps'] = steps"
   ]
  },
  {
   "cell_type": "code",
   "execution_count": 7,
   "metadata": {},
   "outputs": [
    {
     "data": {
      "text/html": [
       "<div>\n",
       "<style scoped>\n",
       "    .dataframe tbody tr th:only-of-type {\n",
       "        vertical-align: middle;\n",
       "    }\n",
       "\n",
       "    .dataframe tbody tr th {\n",
       "        vertical-align: top;\n",
       "    }\n",
       "\n",
       "    .dataframe thead th {\n",
       "        text-align: right;\n",
       "    }\n",
       "</style>\n",
       "<table border=\"1\" class=\"dataframe\">\n",
       "  <thead>\n",
       "    <tr style=\"text-align: right;\">\n",
       "      <th></th>\n",
       "      <th>user</th>\n",
       "      <th>date</th>\n",
       "      <th>steps</th>\n",
       "      <th>startTime</th>\n",
       "      <th>minutesAsleep</th>\n",
       "      <th>minutesAwake</th>\n",
       "      <th>timeInbed</th>\n",
       "      <th>heartrate</th>\n",
       "    </tr>\n",
       "  </thead>\n",
       "  <tbody>\n",
       "    <tr>\n",
       "      <th>0</th>\n",
       "      <td>A01</td>\n",
       "      <td>2016-04-01</td>\n",
       "      <td>13468.0</td>\n",
       "      <td>02:39:00.000</td>\n",
       "      <td>485.0</td>\n",
       "      <td>26.0</td>\n",
       "      <td>511.0</td>\n",
       "      <td>84.276132</td>\n",
       "    </tr>\n",
       "    <tr>\n",
       "      <th>2</th>\n",
       "      <td>A01</td>\n",
       "      <td>2016-04-02</td>\n",
       "      <td>9446.0</td>\n",
       "      <td>02:09:00.000</td>\n",
       "      <td>512.0</td>\n",
       "      <td>37.0</td>\n",
       "      <td>549.0</td>\n",
       "      <td>83.300429</td>\n",
       "    </tr>\n",
       "    <tr>\n",
       "      <th>4</th>\n",
       "      <td>A01</td>\n",
       "      <td>2016-04-03</td>\n",
       "      <td>6084.0</td>\n",
       "      <td>NaN</td>\n",
       "      <td>NaN</td>\n",
       "      <td>NaN</td>\n",
       "      <td>NaN</td>\n",
       "      <td>87.374734</td>\n",
       "    </tr>\n",
       "  </tbody>\n",
       "</table>\n",
       "</div>"
      ],
      "text/plain": [
       "  user        date    steps     startTime  minutesAsleep  minutesAwake  \\\n",
       "0  A01  2016-04-01  13468.0  02:39:00.000          485.0          26.0   \n",
       "2  A01  2016-04-02   9446.0  02:09:00.000          512.0          37.0   \n",
       "4  A01  2016-04-03   6084.0           NaN            NaN           NaN   \n",
       "\n",
       "   timeInbed  heartrate  \n",
       "0      511.0  84.276132  \n",
       "2      549.0  83.300429  \n",
       "4        NaN  87.374734  "
      ]
     },
     "execution_count": 7,
     "metadata": {},
     "output_type": "execute_result"
    }
   ],
   "source": [
    "total_data = mean_steps.merge(sleep, how = 'left', on = ['date', 'user'])\n",
    "total_data = total_data.merge(mean_heart, how = 'left', on = ['date', 'user'])\n",
    "total_data = total_data.drop_duplicates(keep = 'first')\n",
    "total_data.head(3)"
   ]
  },
  {
   "cell_type": "code",
   "execution_count": 8,
   "metadata": {},
   "outputs": [],
   "source": [
    "total_data.to_csv('./data/total_data.csv', index = False)"
   ]
  },
  {
   "cell_type": "code",
   "execution_count": null,
   "metadata": {},
   "outputs": [],
   "source": []
  }
 ],
 "metadata": {
  "kernelspec": {
   "display_name": "Python 3",
   "language": "python",
   "name": "python3"
  },
  "language_info": {
   "codemirror_mode": {
    "name": "ipython",
    "version": 3
   },
   "file_extension": ".py",
   "mimetype": "text/x-python",
   "name": "python",
   "nbconvert_exporter": "python",
   "pygments_lexer": "ipython3",
   "version": "3.7.3"
  }
 },
 "nbformat": 4,
 "nbformat_minor": 2
}
