{
 "cells": [
  {
   "cell_type": "markdown",
   "metadata": {},
   "source": [
    "# Linear Regression"
   ]
  },
  {
   "cell_type": "code",
   "execution_count": 1,
   "metadata": {},
   "outputs": [],
   "source": [
    "from os.path import join\n",
    "import numpy as np\n",
    "import pandas as pd\n",
    "import matplotlib.pyplot as plt\n",
    "%matplotlib inline"
   ]
  },
  {
   "cell_type": "code",
   "execution_count": 2,
   "metadata": {
    "scrolled": true
   },
   "outputs": [
    {
     "data": {
      "text/html": [
       "<div>\n",
       "<style scoped>\n",
       "    .dataframe tbody tr th:only-of-type {\n",
       "        vertical-align: middle;\n",
       "    }\n",
       "\n",
       "    .dataframe tbody tr th {\n",
       "        vertical-align: top;\n",
       "    }\n",
       "\n",
       "    .dataframe thead th {\n",
       "        text-align: right;\n",
       "    }\n",
       "</style>\n",
       "<table border=\"1\" class=\"dataframe\">\n",
       "  <thead>\n",
       "    <tr style=\"text-align: right;\">\n",
       "      <th></th>\n",
       "      <th>sex</th>\n",
       "      <th>length</th>\n",
       "      <th>diameter</th>\n",
       "      <th>height</th>\n",
       "      <th>wholeweight</th>\n",
       "      <th>shuckedweight</th>\n",
       "      <th>visceraweight</th>\n",
       "      <th>shellweight</th>\n",
       "      <th>rings</th>\n",
       "    </tr>\n",
       "  </thead>\n",
       "  <tbody>\n",
       "    <tr>\n",
       "      <th>0</th>\n",
       "      <td>M</td>\n",
       "      <td>0.455</td>\n",
       "      <td>0.365</td>\n",
       "      <td>0.095</td>\n",
       "      <td>0.5140</td>\n",
       "      <td>0.2245</td>\n",
       "      <td>0.1010</td>\n",
       "      <td>0.150</td>\n",
       "      <td>15</td>\n",
       "    </tr>\n",
       "    <tr>\n",
       "      <th>1</th>\n",
       "      <td>M</td>\n",
       "      <td>0.350</td>\n",
       "      <td>0.265</td>\n",
       "      <td>0.090</td>\n",
       "      <td>0.2255</td>\n",
       "      <td>0.0995</td>\n",
       "      <td>0.0485</td>\n",
       "      <td>0.070</td>\n",
       "      <td>7</td>\n",
       "    </tr>\n",
       "    <tr>\n",
       "      <th>2</th>\n",
       "      <td>F</td>\n",
       "      <td>0.530</td>\n",
       "      <td>0.420</td>\n",
       "      <td>0.135</td>\n",
       "      <td>0.6770</td>\n",
       "      <td>0.2565</td>\n",
       "      <td>0.1415</td>\n",
       "      <td>0.210</td>\n",
       "      <td>9</td>\n",
       "    </tr>\n",
       "    <tr>\n",
       "      <th>3</th>\n",
       "      <td>M</td>\n",
       "      <td>0.440</td>\n",
       "      <td>0.365</td>\n",
       "      <td>0.125</td>\n",
       "      <td>0.5160</td>\n",
       "      <td>0.2155</td>\n",
       "      <td>0.1140</td>\n",
       "      <td>0.155</td>\n",
       "      <td>10</td>\n",
       "    </tr>\n",
       "    <tr>\n",
       "      <th>4</th>\n",
       "      <td>I</td>\n",
       "      <td>0.330</td>\n",
       "      <td>0.255</td>\n",
       "      <td>0.080</td>\n",
       "      <td>0.2050</td>\n",
       "      <td>0.0895</td>\n",
       "      <td>0.0395</td>\n",
       "      <td>0.055</td>\n",
       "      <td>7</td>\n",
       "    </tr>\n",
       "  </tbody>\n",
       "</table>\n",
       "</div>"
      ],
      "text/plain": [
       "  sex  length  diameter  height  wholeweight  shuckedweight  visceraweight  \\\n",
       "0   M   0.455     0.365   0.095       0.5140         0.2245         0.1010   \n",
       "1   M   0.350     0.265   0.090       0.2255         0.0995         0.0485   \n",
       "2   F   0.530     0.420   0.135       0.6770         0.2565         0.1415   \n",
       "3   M   0.440     0.365   0.125       0.5160         0.2155         0.1140   \n",
       "4   I   0.330     0.255   0.080       0.2050         0.0895         0.0395   \n",
       "\n",
       "   shellweight  rings  \n",
       "0        0.150     15  \n",
       "1        0.070      7  \n",
       "2        0.210      9  \n",
       "3        0.155     10  \n",
       "4        0.055      7  "
      ]
     },
     "execution_count": 2,
     "metadata": {},
     "output_type": "execute_result"
    }
   ],
   "source": [
    "## Data Import\n",
    "df = pd.read_csv(join('data','abalone.csv'))\n",
    "df.head(5)"
   ]
  },
  {
   "cell_type": "code",
   "execution_count": 3,
   "metadata": {
    "scrolled": true
   },
   "outputs": [
    {
     "data": {
      "text/html": [
       "<div>\n",
       "<style scoped>\n",
       "    .dataframe tbody tr th:only-of-type {\n",
       "        vertical-align: middle;\n",
       "    }\n",
       "\n",
       "    .dataframe tbody tr th {\n",
       "        vertical-align: top;\n",
       "    }\n",
       "\n",
       "    .dataframe thead th {\n",
       "        text-align: right;\n",
       "    }\n",
       "</style>\n",
       "<table border=\"1\" class=\"dataframe\">\n",
       "  <thead>\n",
       "    <tr style=\"text-align: right;\">\n",
       "      <th></th>\n",
       "      <th>length</th>\n",
       "      <th>diameter</th>\n",
       "      <th>height</th>\n",
       "      <th>wholeweight</th>\n",
       "      <th>shuckedweight</th>\n",
       "      <th>visceraweight</th>\n",
       "      <th>shellweight</th>\n",
       "    </tr>\n",
       "  </thead>\n",
       "  <tbody>\n",
       "    <tr>\n",
       "      <th>0</th>\n",
       "      <td>0.455</td>\n",
       "      <td>0.365</td>\n",
       "      <td>0.095</td>\n",
       "      <td>0.5140</td>\n",
       "      <td>0.2245</td>\n",
       "      <td>0.1010</td>\n",
       "      <td>0.150</td>\n",
       "    </tr>\n",
       "    <tr>\n",
       "      <th>1</th>\n",
       "      <td>0.350</td>\n",
       "      <td>0.265</td>\n",
       "      <td>0.090</td>\n",
       "      <td>0.2255</td>\n",
       "      <td>0.0995</td>\n",
       "      <td>0.0485</td>\n",
       "      <td>0.070</td>\n",
       "    </tr>\n",
       "    <tr>\n",
       "      <th>2</th>\n",
       "      <td>0.530</td>\n",
       "      <td>0.420</td>\n",
       "      <td>0.135</td>\n",
       "      <td>0.6770</td>\n",
       "      <td>0.2565</td>\n",
       "      <td>0.1415</td>\n",
       "      <td>0.210</td>\n",
       "    </tr>\n",
       "    <tr>\n",
       "      <th>3</th>\n",
       "      <td>0.440</td>\n",
       "      <td>0.365</td>\n",
       "      <td>0.125</td>\n",
       "      <td>0.5160</td>\n",
       "      <td>0.2155</td>\n",
       "      <td>0.1140</td>\n",
       "      <td>0.155</td>\n",
       "    </tr>\n",
       "    <tr>\n",
       "      <th>4</th>\n",
       "      <td>0.330</td>\n",
       "      <td>0.255</td>\n",
       "      <td>0.080</td>\n",
       "      <td>0.2050</td>\n",
       "      <td>0.0895</td>\n",
       "      <td>0.0395</td>\n",
       "      <td>0.055</td>\n",
       "    </tr>\n",
       "  </tbody>\n",
       "</table>\n",
       "</div>"
      ],
      "text/plain": [
       "   length  diameter  height  wholeweight  shuckedweight  visceraweight  \\\n",
       "0   0.455     0.365   0.095       0.5140         0.2245         0.1010   \n",
       "1   0.350     0.265   0.090       0.2255         0.0995         0.0485   \n",
       "2   0.530     0.420   0.135       0.6770         0.2565         0.1415   \n",
       "3   0.440     0.365   0.125       0.5160         0.2155         0.1140   \n",
       "4   0.330     0.255   0.080       0.2050         0.0895         0.0395   \n",
       "\n",
       "   shellweight  \n",
       "0        0.150  \n",
       "1        0.070  \n",
       "2        0.210  \n",
       "3        0.155  \n",
       "4        0.055  "
      ]
     },
     "execution_count": 3,
     "metadata": {},
     "output_type": "execute_result"
    }
   ],
   "source": [
    "## Remove columns we do not use in this example\n",
    "del df['sex']\n",
    "del df['rings']\n",
    "df.head(5)"
   ]
  },
  {
   "cell_type": "code",
   "execution_count": 4,
   "metadata": {},
   "outputs": [
    {
     "name": "stdout",
     "output_type": "stream",
     "text": [
      "                 length  diameter    height  wholeweight  shuckedweight  \\\n",
      "length         1.000000  0.986812  0.827554     0.925261       0.897914   \n",
      "diameter       0.986812  1.000000  0.833684     0.925452       0.893162   \n",
      "height         0.827554  0.833684  1.000000     0.819221       0.774972   \n",
      "wholeweight    0.925261  0.925452  0.819221     1.000000       0.969405   \n",
      "shuckedweight  0.897914  0.893162  0.774972     0.969405       1.000000   \n",
      "visceraweight  0.903018  0.899724  0.798319     0.966375       0.931961   \n",
      "shellweight    0.897706  0.905330  0.817338     0.955355       0.882617   \n",
      "\n",
      "               visceraweight  shellweight  \n",
      "length              0.903018     0.897706  \n",
      "diameter            0.899724     0.905330  \n",
      "height              0.798319     0.817338  \n",
      "wholeweight         0.966375     0.955355  \n",
      "shuckedweight       0.931961     0.882617  \n",
      "visceraweight       1.000000     0.907656  \n",
      "shellweight         0.907656     1.000000  \n",
      "length           float64\n",
      "diameter         float64\n",
      "height           float64\n",
      "wholeweight      float64\n",
      "shuckedweight    float64\n",
      "visceraweight    float64\n",
      "shellweight      float64\n",
      "dtype: object\n",
      "(4177, 7)\n"
     ]
    }
   ],
   "source": [
    "## Some functions to explore data\n",
    "print(df.corr())\n",
    "print(df.dtypes)\n",
    "print(df.shape)"
   ]
  },
  {
   "cell_type": "code",
   "execution_count": 5,
   "metadata": {},
   "outputs": [
    {
     "name": "stdout",
     "output_type": "stream",
     "text": [
      "4177 2924 1253\n",
      "[2314  632 3471 ...  846 2516 1082]\n",
      "2924 1253\n"
     ]
    }
   ],
   "source": [
    "## Train-Valiedation Spli\n",
    "## Index control by yourself\n",
    "n_data = df.shape[0]\n",
    "p_trn = 0.7\n",
    "n_trn = round(n_data * p_trn)\n",
    "n_tst = n_data - n_trn\n",
    "print(n_data, n_trn, n_tst)\n",
    "\n",
    "idx_data = pd.Series(range(0,4177))\n",
    "idx_data_perm = np.random.permutation(idx_data)\n",
    "print(idx_data_perm)\n",
    "\n",
    "idx_trn = idx_data_perm[0:n_trn]\n",
    "idx_tst = idx_data_perm[n_trn:n_data]\n",
    "print(len(idx_trn),len(idx_tst))"
   ]
  },
  {
   "cell_type": "code",
   "execution_count": 6,
   "metadata": {
    "scrolled": true
   },
   "outputs": [],
   "source": [
    "trnx = df.iloc[idx_trn,0:6]\n",
    "trny = df.iloc[idx_trn,6]\n",
    "tstx = df.iloc[idx_tst,0:6]\n",
    "tsty = df.iloc[idx_tst,6]"
   ]
  },
  {
   "cell_type": "code",
   "execution_count": 7,
   "metadata": {},
   "outputs": [],
   "source": [
    "## Or you can use just this !!\n",
    "from sklearn.model_selection import train_test_split\n",
    "trnx, tstx, trny, tsty = train_test_split(df.iloc[:,0:6], df.iloc[:,6], test_size=0.3, random_state=123)"
   ]
  },
  {
   "cell_type": "code",
   "execution_count": 8,
   "metadata": {},
   "outputs": [
    {
     "name": "stdout",
     "output_type": "stream",
     "text": [
      "[0.00781831 0.33229374 0.11536906 ... 0.14878482 0.15407296 0.04044321]\n"
     ]
    }
   ],
   "source": [
    "from sklearn.linear_model import LinearRegression\n",
    "model = LinearRegression()\n",
    "model.fit(X=trnx, y=trny)\n",
    "ab_pred = model.predict(X=tstx)\n",
    "print(ab_pred)"
   ]
  },
  {
   "cell_type": "code",
   "execution_count": 9,
   "metadata": {},
   "outputs": [
    {
     "data": {
      "text/plain": [
       "0.028717866737623"
      ]
     },
     "execution_count": 9,
     "metadata": {},
     "output_type": "execute_result"
    }
   ],
   "source": [
    "## Calculation of RMSE\n",
    "np.sqrt(np.mean((np.square(ab_pred - tsty))))"
   ]
  },
  {
   "cell_type": "code",
   "execution_count": 10,
   "metadata": {},
   "outputs": [
    {
     "name": "stdout",
     "output_type": "stream",
     "text": [
      "[93.15364823]\n"
     ]
    },
    {
     "data": {
      "image/png": "[encoded data removed]",
      "text/plain": [
       "<Figure size 432x288 with 1 Axes>"
      ]
     },
     "metadata": {
      "needs_background": "light"
     },
     "output_type": "display_data"
    }
   ],
   "source": [
    "plt.scatter(x=tsty, y=ab_pred)\n",
    "print(np.correlate(tsty, ab_pred))"
   ]
  },
  {
   "cell_type": "code",
   "execution_count": 11,
   "metadata": {},
   "outputs": [
    {
     "name": "stdout",
     "output_type": "stream",
     "text": [
      "RMSE: 0.028717866737623013\n",
      "R2: 0.9584510910168629\n"
     ]
    }
   ],
   "source": [
    "from sklearn import metrics\n",
    "print('RMSE:', np.sqrt(metrics.mean_squared_error(ab_pred, tsty)))\n",
    "print('R2:', metrics.r2_score(tsty, ab_pred))"
   ]
  },
  {
   "cell_type": "code",
   "execution_count": 12,
   "metadata": {},
   "outputs": [
    {
     "name": "stdout",
     "output_type": "stream",
     "text": [
      "RMSE: 0.14102268356979053\n",
      "RMSE: 0.029454831508413708\n",
      "[-0.05217783  0.22752262  0.12127479  0.50970163 -0.45116463 -0.36823772] [0. 0. 0. 0. 0. 0.] [ 0.02531582  0.13482249  0.10007428  0.45013911 -0.38538878 -0.22413947]\n"
     ]
    }
   ],
   "source": [
    "from sklearn.linear_model import Lasso\n",
    "model_lasso = Lasso()\n",
    "model_lasso.fit(X=trnx, y=trny)\n",
    "ab_pred_lasso = model_lasso.predict(X=tstx)\n",
    "print('RMSE:', np.sqrt(metrics.mean_squared_error(ab_pred_lasso, tsty)))\n",
    "\n",
    "from sklearn.linear_model import Ridge\n",
    "model_ridge = Ridge()\n",
    "model_ridge.fit(X=trnx, y=trny)\n",
    "ab_pred_ridge = model_ridge.predict(X=tstx)\n",
    "print('RMSE:', np.sqrt(metrics.mean_squared_error(ab_pred_ridge, tsty)))\n",
    "\n",
    "print(model.coef_, model_lasso.coef_, model_ridge.coef_)"
   ]
  },
  {
   "cell_type": "code",
   "execution_count": 13,
   "metadata": {},
   "outputs": [
    {
     "name": "stdout",
     "output_type": "stream",
     "text": [
      "[False False False  True  True  True]\n",
      "[4 2 3 1 1 1]\n"
     ]
    }
   ],
   "source": [
    "from sklearn.feature_selection import RFE\n",
    "selector = RFE(model)\n",
    "selector = selector.fit(X=trnx, y=trny)\n",
    "print(selector.support_ )\n",
    "print(selector.ranking_)"
   ]
  },
  {
   "cell_type": "code",
   "execution_count": null,
   "metadata": {},
   "outputs": [],
   "source": []
  }
 ],
 "metadata": {
  "kernelspec": {
   "display_name": "Python 3",
   "language": "python",
   "name": "python3"
  },
  "language_info": {
   "codemirror_mode": {
    "name": "ipython",
    "version": 3
   },
   "file_extension": ".py",
   "mimetype": "text/x-python",
   "name": "python",
   "nbconvert_exporter": "python",
   "pygments_lexer": "ipython3",
   "version": "3.7.3"
  }
 },
 "nbformat": 4,
 "nbformat_minor": 2
}
